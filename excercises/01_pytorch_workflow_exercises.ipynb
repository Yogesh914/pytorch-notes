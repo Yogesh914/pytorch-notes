{
 "nbformat": 4,
 "nbformat_minor": 0,
 "metadata": {
  "colab": {
   "name": "01_pytorch_workflow_exercises.ipynb",
   "provenance": [],
   "collapsed_sections": [],
   "authorship_tag": "ABX9TyNYzatJtFkfUqqdiR6rYwVL",
   "include_colab_link": true
  },
  "kernelspec": {
   "name": "python3",
   "language": "python",
   "display_name": "Python 3 (ipykernel)"
  },
  "language_info": {
   "name": "python"
  },
  "accelerator": "GPU"
 },
 "cells": [
  {
   "cell_type": "markdown",
   "source": [
    "# 01. PyTorch Workflow Exercise Template\n",
    "\n",
    "The following is a template for the PyTorch workflow exercises.\n",
    "\n",
    "It's only starter code and it's your job to fill in the blanks.\n",
    "\n",
    "Because of the flexibility of PyTorch, there may be more than one way to answer the question.\n",
    "\n",
    "Don't worry about trying to be *right* just try writing code that suffices the question.\n",
    "\n",
    "You can see one form of [solutions on GitHub](https://github.com/mrdbourke/pytorch-deep-learning/tree/main/extras/solutions) (but try the exercises below yourself first!)."
   ],
   "metadata": {
    "id": "N8LsPXZti9Sw"
   }
  },
  {
   "cell_type": "code",
   "source": [
    "# Import necessary libraries\n",
    "import torch\n",
    "from torch import nn\n",
    "import matplotlib.pyplot as plt\n",
    "import numpy as np\n",
    "import torch.optim as optim"
   ],
   "metadata": {
    "id": "Glu2fM4dkNlx",
    "ExecuteTime": {
     "end_time": "2023-08-06T21:24:43.165520Z",
     "start_time": "2023-08-06T21:24:43.132614Z"
    }
   },
   "execution_count": 32,
   "outputs": []
  },
  {
   "cell_type": "code",
   "source": [
    "# Setup device-agnostic code\n",
    "torch.has_mps"
   ],
   "metadata": {
    "id": "LqKhXY26m31s",
    "ExecuteTime": {
     "end_time": "2023-08-06T21:24:43.165762Z",
     "start_time": "2023-08-06T21:24:43.136554Z"
    }
   },
   "execution_count": 33,
   "outputs": [
    {
     "data": {
      "text/plain": "True"
     },
     "execution_count": 33,
     "metadata": {},
     "output_type": "execute_result"
    }
   ]
  },
  {
   "cell_type": "markdown",
   "source": [
    "## 1. Create a straight line dataset using the linear regression formula (`weight * X + bias`).\n",
    "  * Set `weight=0.3` and `bias=0.9` there should be at least 100 datapoints total. \n",
    "  * Split the data into 80% training, 20% testing.\n",
    "  * Plot the training and testing data so it becomes visual.\n",
    "\n",
    "Your output of the below cell should look something like:\n",
    "```\n",
    "Number of X samples: 100\n",
    "Number of y samples: 100\n",
    "First 10 X & y samples:\n",
    "X: tensor([0.0000, 0.0100, 0.0200, 0.0300, 0.0400, 0.0500, 0.0600, 0.0700, 0.0800,\n",
    "        0.0900])\n",
    "y: tensor([0.9000, 0.9030, 0.9060, 0.9090, 0.9120, 0.9150, 0.9180, 0.9210, 0.9240,\n",
    "        0.9270])\n",
    "```\n",
    "\n",
    "Of course the numbers in `X` and `y` may be different but ideally they're created using the linear regression formula."
   ],
   "metadata": {
    "id": "g7HUhxCxjeBx"
   }
  },
  {
   "cell_type": "code",
   "source": [
    "# Create the data parameters\n",
    "weight = 0.7\n",
    "bias = 0.3\n",
    "\n",
    "X = torch.arange(start=0, step=0.02, end=1)\n",
    "y = weight * X + bias\n",
    "\n",
    "# Make X and y using linear regression feature\n",
    "\n",
    "\n",
    "print(f\"Number of X samples: {len(X)}\")\n",
    "print(f\"Number of y samples: {len(y)}\")\n",
    "print(f\"First 10 X & y samples:\\nX: {X[:10]}\\ny: {y[:10]}\")"
   ],
   "metadata": {
    "id": "KbDG5MV7jhvE",
    "ExecuteTime": {
     "end_time": "2023-08-06T21:24:43.183377Z",
     "start_time": "2023-08-06T21:24:43.140521Z"
    }
   },
   "execution_count": 34,
   "outputs": [
    {
     "name": "stdout",
     "output_type": "stream",
     "text": [
      "Number of X samples: 50\n",
      "Number of y samples: 50\n",
      "First 10 X & y samples:\n",
      "X: tensor([0.0000, 0.0200, 0.0400, 0.0600, 0.0800, 0.1000, 0.1200, 0.1400, 0.1600,\n",
      "        0.1800])\n",
      "y: tensor([0.3000, 0.3140, 0.3280, 0.3420, 0.3560, 0.3700, 0.3840, 0.3980, 0.4120,\n",
      "        0.4260])\n"
     ]
    }
   ]
  },
  {
   "cell_type": "code",
   "source": [
    "# Split the data into training and testing\n",
    "train_split = int(len(X)*0.8)\n",
    "X_train, y_train = X[:train_split], y[:train_split]\n",
    "X_test, y_test = X[train_split:], y[train_split:]\n",
    "\n",
    "len(X_train), len(y_train), len(X_test), len(y_test)"
   ],
   "metadata": {
    "id": "GlwtT1djkmLw",
    "ExecuteTime": {
     "end_time": "2023-08-06T21:24:43.196825Z",
     "start_time": "2023-08-06T21:24:43.145016Z"
    }
   },
   "execution_count": 35,
   "outputs": [
    {
     "data": {
      "text/plain": "(40, 40, 10, 10)"
     },
     "execution_count": 35,
     "metadata": {},
     "output_type": "execute_result"
    }
   ]
  },
  {
   "cell_type": "code",
   "source": [
    "# Plot the training and testing data \n",
    "def plot_predictions(training_data=X_train, training_labels=y_train, test_data=X_test, test_labels=y_test, predictions=None):\n",
    "  \n",
    "  plt.figure(figsize=(10,10))\n",
    "  \n",
    "  plt.scatter(training_data.cpu(), training_labels.cpu(), c=\"b\", s=10, label=\"Training Data\")\n",
    "  plt.scatter(test_data.cpu(), test_labels.cpu(), c=\"g\", s=10, label=\"Test Data\")\n",
    "  \n",
    "  if predictions is not None:\n",
    "    plt.scatter(test_data.cpu(), predictions.cpu(), c=\"r\", s=10, label=\"Model Predictions\")\n",
    "      \n",
    "  plt.legend(prop={\"size\": 14});\n",
    "  \n",
    "plot_predictions()"
   ],
   "metadata": {
    "id": "29iQZFNhlYJ-",
    "ExecuteTime": {
     "end_time": "2023-08-06T21:24:43.242004Z",
     "start_time": "2023-08-06T21:24:43.153695Z"
    }
   },
   "execution_count": 36,
   "outputs": [
    {
     "data": {
      "text/plain": "<Figure size 1000x1000 with 1 Axes>",
      "image/png": "[encoded data removed]"
     },
     "metadata": {},
     "output_type": "display_data"
    }
   ]
  },
  {
   "cell_type": "markdown",
   "source": [
    "## 2. Build a PyTorch model by subclassing `nn.Module`. \n",
    "  * Inside should be a randomly initialized `nn.Parameter()` with `requires_grad=True`, one for `weights` and one for `bias`. \n",
    "  * Implement the `forward()` method to compute the linear regression function you used to create the dataset in 1. \n",
    "  * Once you've constructed the model, make an instance of it and check its `state_dict()`.\n",
    "  * **Note:** If you'd like to use `nn.Linear()` instead of `nn.Parameter()` you can."
   ],
   "metadata": {
    "id": "ImZoe3v8jif8"
   }
  },
  {
   "cell_type": "code",
   "source": [
    "# Create PyTorch linear regression model by subclassing nn.Module\n",
    "class LinearRegression(nn.Module):\n",
    "  \n",
    "  def __init__(self):\n",
    "    super().__init__()\n",
    "    \n",
    "    self.weights = nn.Parameter(torch.rand(1, requires_grad=True, dtype=torch.float32))\n",
    "    self.bias = nn.Parameter(torch.rand(1, requires_grad=True, dtype=torch.float32))\n",
    "  \n",
    "  def forward(self, x: torch.Tensor) -> torch.Tensor:\n",
    "    return self.weights * x + self.bias\n",
    "    "
   ],
   "metadata": {
    "id": "qzd__Y5rjtB8",
    "ExecuteTime": {
     "end_time": "2023-08-06T21:24:43.242164Z",
     "start_time": "2023-08-06T21:24:43.239602Z"
    }
   },
   "execution_count": 37,
   "outputs": []
  },
  {
   "cell_type": "code",
   "source": [
    "# Instantiate the model and put it to the target device\n",
    "torch.manual_seed(0)\n",
    "model = LinearRegression()\n",
    "model.to(device=\"mps\")\n",
    "next(model.parameters()).device"
   ],
   "metadata": {
    "id": "5LdcDnmOmyQ2",
    "ExecuteTime": {
     "end_time": "2023-08-06T21:24:43.252735Z",
     "start_time": "2023-08-06T21:24:43.242406Z"
    }
   },
   "execution_count": 38,
   "outputs": [
    {
     "data": {
      "text/plain": "device(type='mps', index=0)"
     },
     "execution_count": 38,
     "metadata": {},
     "output_type": "execute_result"
    }
   ]
  },
  {
   "cell_type": "markdown",
   "source": [
    "## 3. Create a loss function and optimizer using `nn.L1Loss()` and `torch.optim.SGD(params, lr)` respectively. \n",
    "  * Set the learning rate of the optimizer to be 0.01 and the parameters to optimize should be the model parameters from the model you created in 2.\n",
    "  * Write a training loop to perform the appropriate training steps for 300 epochs.\n",
    "  * The training loop should test the model on the test dataset every 20 epochs."
   ],
   "metadata": {
    "id": "G6nYOrJhjtfu"
   }
  },
  {
   "cell_type": "code",
   "source": [
    "# Create the loss function and optimizer\n",
    "lossfn = nn.L1Loss()\n",
    "\n",
    "optimizer = optim.SGD(params=model.parameters(), lr=0.01)"
   ],
   "metadata": {
    "id": "ltvoZ-FWjv1j",
    "ExecuteTime": {
     "end_time": "2023-08-06T21:24:43.252855Z",
     "start_time": "2023-08-06T21:24:43.250810Z"
    }
   },
   "execution_count": 39,
   "outputs": []
  },
  {
   "cell_type": "code",
   "source": [
    "# Training loop\n",
    "torch.manual_seed(0)\n",
    "# Train model for 300 epochs\n",
    "epochs = 300\n",
    "\n",
    "# Send data to target device\n",
    "X_train = X_train.to(device=\"mps\")\n",
    "y_train = y_train.to(device=\"mps\")\n",
    "X_test = X_test.to(device=\"mps\")\n",
    "y_test = y_test.to(device=\"mps\")\n",
    "\n",
    "for epoch in range(epochs):\n",
    "  \n",
    "  ### Training\n",
    "  \n",
    "  # Put model in train mode\n",
    "  model.train()\n",
    "\n",
    "  # 1. Forward pass\n",
    "  y_pred = model(X_train)\n",
    "\n",
    "  # 2. Calculate loss\n",
    "  loss = lossfn(y_pred, y_train)\n",
    "\n",
    "  # 3. Zero gradients\n",
    "  optimizer.zero_grad()\n",
    "\n",
    "  # 4. Backpropagation\n",
    "  loss.backward()\n",
    "\n",
    "  # 5. Step the optimizer\n",
    "  optimizer.step()\n",
    "\n",
    "  ### Perform testing every 20 epochs\n",
    "  if epoch % 20 == 0:\n",
    "\n",
    "    # Put model in evaluation mode and setup inference context \n",
    "    model.eval()\n",
    "    with torch.inference_mode():\n",
    "      # 1. Forward pass\n",
    "      test_pred = model(X_test)\n",
    "      # 2. Calculate test loss\n",
    "      test_loss = lossfn(test_pred, y_test)\n",
    "\n",
    "      # Print out what's happening\n",
    "      print(f\"Epoch: {epoch} | Train loss: {loss:.3f} | Test loss: {test_loss:.3f}\")"
   ],
   "metadata": {
    "id": "xpE83NvNnkdV",
    "ExecuteTime": {
     "end_time": "2023-08-06T21:24:43.781839Z",
     "start_time": "2023-08-06T21:24:43.254176Z"
    }
   },
   "execution_count": 40,
   "outputs": [
    {
     "name": "stdout",
     "output_type": "stream",
     "text": [
      "Epoch: 0 | Train loss: 0.389 | Test loss: 0.273\n",
      "Epoch: 20 | Train loss: 0.158 | Test loss: 0.015\n",
      "Epoch: 40 | Train loss: 0.065 | Test loss: 0.126\n",
      "Epoch: 60 | Train loss: 0.056 | Test loss: 0.128\n",
      "Epoch: 80 | Train loss: 0.049 | Test loss: 0.114\n",
      "Epoch: 100 | Train loss: 0.042 | Test loss: 0.098\n",
      "Epoch: 120 | Train loss: 0.035 | Test loss: 0.082\n",
      "Epoch: 140 | Train loss: 0.029 | Test loss: 0.066\n",
      "Epoch: 160 | Train loss: 0.022 | Test loss: 0.050\n",
      "Epoch: 180 | Train loss: 0.015 | Test loss: 0.034\n",
      "Epoch: 200 | Train loss: 0.008 | Test loss: 0.018\n",
      "Epoch: 220 | Train loss: 0.004 | Test loss: 0.005\n",
      "Epoch: 240 | Train loss: 0.004 | Test loss: 0.005\n",
      "Epoch: 260 | Train loss: 0.004 | Test loss: 0.005\n",
      "Epoch: 280 | Train loss: 0.004 | Test loss: 0.005\n"
     ]
    }
   ]
  },
  {
   "cell_type": "markdown",
   "source": [
    "## 4. Make predictions with the trained model on the test data.\n",
    "  * Visualize these predictions against the original training and testing data (**note:** you may need to make sure the predictions are *not* on the GPU if you want to use non-CUDA-enabled libraries such as matplotlib to plot)."
   ],
   "metadata": {
    "id": "x4j4TM18jwa7"
   }
  },
  {
   "cell_type": "code",
   "source": [
    "# Make predictions with the model\n",
    "model.eval()\n",
    "\n",
    "with torch.inference_mode():\n",
    "  y_pred = model(X_test)\n",
    "y_pred"
   ],
   "metadata": {
    "id": "bbMPK5Qjjyx_",
    "ExecuteTime": {
     "end_time": "2023-08-06T21:24:43.791647Z",
     "start_time": "2023-08-06T21:24:43.779332Z"
    }
   },
   "execution_count": 41,
   "outputs": [
    {
     "data": {
      "text/plain": "tensor([0.8526, 0.8664, 0.8802, 0.8941, 0.9079, 0.9218, 0.9356, 0.9495, 0.9633,\n        0.9772], device='mps:0')"
     },
     "execution_count": 41,
     "metadata": {},
     "output_type": "execute_result"
    }
   ]
  },
  {
   "cell_type": "code",
   "source": [
    "# Plot the predictions (these may need to be on a specific device)\n",
    "plot_predictions(predictions=y_pred)"
   ],
   "metadata": {
    "id": "K3BdmQaDpFo8",
    "ExecuteTime": {
     "end_time": "2023-08-06T21:24:43.882021Z",
     "start_time": "2023-08-06T21:24:43.794201Z"
    }
   },
   "execution_count": 42,
   "outputs": [
    {
     "data": {
      "text/plain": "<Figure size 1000x1000 with 1 Axes>",
      "image/png": "[encoded data removed]"
     },
     "metadata": {},
     "output_type": "display_data"
    }
   ]
  },
  {
   "cell_type": "markdown",
   "source": [
    "## 5. Save your trained model's `state_dict()` to file.\n",
    "  * Create a new instance of your model class you made in 2. and load in the `state_dict()` you just saved to it.\n",
    "  * Perform predictions on your test data with the loaded model and confirm they match the original model predictions from 4."
   ],
   "metadata": {
    "id": "s2OnlMWKjzX8"
   }
  },
  {
   "cell_type": "code",
   "source": [
    "from pathlib import Path\n",
    "\n",
    "# 1. Create models directory \n",
    "\n",
    "\n",
    "# 2. Create model save path \n",
    "MODEL_SAVE_PATH = Path(\"models\") / \"excerise1_model.pth\"\n",
    "\n",
    "# 3. Save the model state dict\n",
    "torch.save(obj=model.state_dict(), f=MODEL_SAVE_PATH)"
   ],
   "metadata": {
    "id": "hgxhgD14qr-i",
    "ExecuteTime": {
     "end_time": "2023-08-06T21:24:43.887069Z",
     "start_time": "2023-08-06T21:24:43.885558Z"
    }
   },
   "execution_count": 43,
   "outputs": []
  },
  {
   "cell_type": "code",
   "source": [
    "# Create new instance of model and load saved state dict (make sure to put it on the target device)\n",
    "loaded_model = LinearRegression()\n",
    "loaded_model.to(device=\"mps\")\n",
    "\n",
    "loaded_model.load_state_dict(torch.load(MODEL_SAVE_PATH))\n",
    "loaded_model.state_dict()"
   ],
   "metadata": {
    "id": "P9vTgiLRrJ7T",
    "ExecuteTime": {
     "end_time": "2023-08-06T21:26:52.635809Z",
     "start_time": "2023-08-06T21:26:52.622326Z"
    }
   },
   "execution_count": 45,
   "outputs": [
    {
     "data": {
      "text/plain": "OrderedDict([('weights', tensor([0.6923], device='mps:0')),\n             ('bias', tensor([0.2987], device='mps:0'))])"
     },
     "execution_count": 45,
     "metadata": {},
     "output_type": "execute_result"
    }
   ]
  },
  {
   "cell_type": "code",
   "source": [
    "# Make predictions with loaded model and compare them to the previous\n",
    "y_pred2 = loaded_model(X_test)\n",
    "\n",
    "y_pred2 == y_pred"
   ],
   "metadata": {
    "id": "8UGX3VebrVtI",
    "ExecuteTime": {
     "end_time": "2023-08-06T21:27:25.640169Z",
     "start_time": "2023-08-06T21:27:25.621857Z"
    }
   },
   "execution_count": 46,
   "outputs": [
    {
     "data": {
      "text/plain": "tensor([True, True, True, True, True, True, True, True, True, True],\n       device='mps:0')"
     },
     "execution_count": 46,
     "metadata": {},
     "output_type": "execute_result"
    }
   ]
  },
  {
   "cell_type": "code",
   "execution_count": null,
   "outputs": [],
   "source": [],
   "metadata": {
    "collapsed": false
   }
  }
 ]
}
