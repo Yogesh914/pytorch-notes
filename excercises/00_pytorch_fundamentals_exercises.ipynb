{
 "nbformat": 4,
 "nbformat_minor": 0,
 "metadata": {
  "colab": {
   "name": "00_pytorch_fundamentals_exercises.ipynb",
   "provenance": [],
   "collapsed_sections": []
  },
  "kernelspec": {
   "name": "python3",
   "language": "python",
   "display_name": "Python 3 (ipykernel)"
  },
  "language_info": {
   "name": "python"
  },
  "accelerator": "GPU"
 },
 "cells": [
  {
   "cell_type": "markdown",
   "source": [
    "# 00. PyTorch Fundamentals Exercises\n",
    "\n",
    "### 1. Documentation reading \n",
    "\n",
    "A big part of deep learning (and learning to code in general) is getting familiar with the documentation of a certain framework you're using. We'll be using the PyTorch documentation a lot throughout the rest of this course. So I'd recommend spending 10-minutes reading the following (it's okay if you don't get some things for now, the focus is not yet full understanding, it's awareness)\n"
   ],
   "metadata": {
    "id": "AzDBM_v4iMe7"
   }
  },
  {
   "cell_type": "code",
   "source": [
    "import torch\n",
    "\n",
    "print(f\"PyTorch Version: {torch.__version__}\")\n",
    "\n",
    "# Check PyTorch has access to MPS (Metal Performance Shader, Apple's GPU architecture)\n",
    "print(f\"Is MPS (Metal Performance Shader) built? {torch.backends.mps.is_built()}\")\n",
    "print(f\"Is MPS available? {torch.backends.mps.is_available()}\")\n",
    "\n",
    "# Set the device\n",
    "device = \"mps\" if torch.backends.mps.is_available() else \"cpu\"\n",
    "print(f\"Using device: {device}\")"
   ],
   "metadata": {
    "id": "bGD0oD8Kizak",
    "ExecuteTime": {
     "end_time": "2023-08-03T00:10:40.741401Z",
     "start_time": "2023-08-03T00:10:39.924997Z"
    }
   },
   "execution_count": 1,
   "outputs": [
    {
     "name": "stdout",
     "output_type": "stream",
     "text": [
      "PyTorch Version: 2.0.1\n",
      "Is MPS (Metal Performance Shader) built? True\n",
      "Is MPS available? True\n",
      "Using device: mps\n"
     ]
    }
   ]
  },
  {
   "cell_type": "markdown",
   "source": [
    "### 2. Create a random tensor with shape `(7, 7)`.\n"
   ],
   "metadata": {
    "id": "__iXqqz-ioUJ"
   }
  },
  {
   "cell_type": "code",
   "source": [
    "# Import torch\n",
    "import torch\n",
    "\n",
    "# Create random tensor\n",
    "rand_tensor = torch.rand(7,7)\n",
    "rand_tensor"
   ],
   "metadata": {
    "id": "6pUq9Dc8i2L7",
    "ExecuteTime": {
     "end_time": "2023-08-03T00:11:14.680403Z",
     "start_time": "2023-08-03T00:11:14.668283Z"
    }
   },
   "execution_count": 3,
   "outputs": [
    {
     "data": {
      "text/plain": "tensor([[0.3485, 0.8124, 0.5419, 0.7428, 0.1765, 0.3939, 0.6190],\n        [0.1560, 0.5551, 0.3305, 0.3072, 0.8462, 0.5101, 0.7233],\n        [0.5864, 0.0150, 0.8286, 0.6679, 0.3463, 0.5998, 0.5191],\n        [0.6390, 0.9692, 0.8985, 0.0467, 0.6048, 0.3126, 0.0331],\n        [0.9185, 0.0261, 0.2042, 0.0444, 0.7070, 0.9438, 0.5031],\n        [0.5072, 0.6187, 0.9117, 0.6306, 0.4979, 0.5706, 0.7698],\n        [0.7467, 0.7040, 0.3414, 0.7191, 0.2598, 0.6969, 0.5021]])"
     },
     "execution_count": 3,
     "metadata": {},
     "output_type": "execute_result"
    }
   ]
  },
  {
   "cell_type": "markdown",
   "source": [
    "### 3. Perform a matrix multiplication on the tensor from 2 with another random tensor with shape `(1, 7)` (hint: you may have to transpose the second tensor)."
   ],
   "metadata": {
    "id": "9-XxvRLfiqkR"
   }
  },
  {
   "cell_type": "code",
   "source": [
    "# Create another random tensor\n",
    "x = torch.rand(1, 7)\n",
    "x = x.T\n",
    "# Perform matrix multiplication \n",
    "torch.mm(rand_tensor, x)"
   ],
   "metadata": {
    "id": "NcLqR0Sbi_vT",
    "ExecuteTime": {
     "end_time": "2023-08-03T00:13:43.751574Z",
     "start_time": "2023-08-03T00:13:43.741182Z"
    }
   },
   "execution_count": 7,
   "outputs": [
    {
     "data": {
      "text/plain": "tensor([[2.5129],\n        [2.4786],\n        [2.3101],\n        [2.2417],\n        [2.4235],\n        [3.0584],\n        [2.7705]])"
     },
     "execution_count": 7,
     "metadata": {},
     "output_type": "execute_result"
    }
   ]
  },
  {
   "cell_type": "markdown",
   "source": [
    "### 4. Set the random seed to `0` and do 2 & 3 over again.\n",
    "\n",
    "The output should be:\n",
    "```\n",
    "(tensor([[1.8542],\n",
    "         [1.9611],\n",
    "         [2.2884],\n",
    "         [3.0481],\n",
    "         [1.7067],\n",
    "         [2.5290],\n",
    "         [1.7989]]), torch.Size([7, 1]))\n",
    "```"
   ],
   "metadata": {
    "id": "eiutdKUFiryU"
   }
  },
  {
   "cell_type": "code",
   "source": [
    "# Set manual seed\n",
    "torch.manual_seed(0)\n",
    "\n",
    "# Create two random tensors\n",
    "x = torch.rand(7,7)\n",
    "y = torch.rand(1,7).T\n",
    "# Matrix multiply tensors\n",
    "torch.mm(x, y)"
   ],
   "metadata": {
    "id": "D-lOWI_1jRMm",
    "ExecuteTime": {
     "end_time": "2023-08-03T00:13:54.192132Z",
     "start_time": "2023-08-03T00:13:54.178828Z"
    }
   },
   "execution_count": 8,
   "outputs": [
    {
     "data": {
      "text/plain": "tensor([[1.8542],\n        [1.9611],\n        [2.2884],\n        [3.0481],\n        [1.7067],\n        [2.5290],\n        [1.7989]])"
     },
     "execution_count": 8,
     "metadata": {},
     "output_type": "execute_result"
    }
   ]
  },
  {
   "cell_type": "markdown",
   "source": [
    "### 5. Speaking of random seeds, we saw how to set it with `torch.manual_seed()` but is there a GPU equivalent? (hint: you'll need to look into the documentation for `torch.cuda` for this one)\n",
    "  * If there is, set the GPU random seed to `1234`."
   ],
   "metadata": {
    "id": "ezY6ks9Cis37"
   }
  },
  {
   "cell_type": "code",
   "source": [
    "# Set random seed on the GPU\n",
    "torch.mps.manual_seed(1234)"
   ],
   "metadata": {
    "id": "_LKWcfSTjp00",
    "ExecuteTime": {
     "end_time": "2023-08-03T00:16:52.166188Z",
     "start_time": "2023-08-03T00:16:52.158986Z"
    }
   },
   "execution_count": 12,
   "outputs": []
  },
  {
   "cell_type": "markdown",
   "source": [
    "\n",
    "### 6. Create two random tensors of shape `(2, 3)` and send them both to the GPU (you'll need access to a GPU for this). Set `torch.manual_seed(1234)` when creating the tensors (this doesn't have to be the GPU random seed). The output should be something like:\n",
    "\n",
    "```\n",
    "Device: cuda\n",
    "(tensor([[0.0290, 0.4019, 0.2598],\n",
    "         [0.3666, 0.0583, 0.7006]], device='cuda:0'),\n",
    " tensor([[0.0518, 0.4681, 0.6738],\n",
    "         [0.3315, 0.7837, 0.5631]], device='cuda:0'))\n",
    "```"
   ],
   "metadata": {
    "id": "Ir9qSaj6it4n"
   }
  },
  {
   "cell_type": "code",
   "source": [
    "# Set random seed\n",
    "torch.manual_seed(1234)\n",
    "\n",
    "# Check for access to GPU\n",
    "torch.has_mps\n",
    "\n",
    "# Create two random tensors on GPU\n",
    "x = torch.rand(size=(2,3), device=\"mps\")\n",
    "y = torch.rand(size = (2,3), device=\"mps\")\n",
    "\n",
    "x,y"
   ],
   "metadata": {
    "id": "azXExiFZj5nm",
    "ExecuteTime": {
     "end_time": "2023-08-03T00:27:15.758433Z",
     "start_time": "2023-08-03T00:27:15.736944Z"
    }
   },
   "execution_count": 40,
   "outputs": [
    {
     "data": {
      "text/plain": "(tensor([[0.4794, 0.7608, 0.8283],\n         [0.8029, 0.6423, 0.0597]], device='mps:0'),\n tensor([[0.0223, 0.9878, 0.2711],\n         [0.9123, 0.7672, 0.8879]], device='mps:0'))"
     },
     "execution_count": 40,
     "metadata": {},
     "output_type": "execute_result"
    }
   ]
  },
  {
   "cell_type": "markdown",
   "source": [
    "\n",
    "### 7. Perform a matrix multiplication on the tensors you created in 6 (again, you may have to adjust the shapes of one of the tensors).\n",
    "\n",
    "The output should look like:\n",
    "```\n",
    "(tensor([[0.3647, 0.4709],\n",
    "         [0.5184, 0.5617]], device='cuda:0'), torch.Size([2, 2]))\n",
    "```"
   ],
   "metadata": {
    "id": "5TlAxeiSiu1y"
   }
  },
  {
   "cell_type": "code",
   "source": [
    "# Perform matmul on tensor_A and tensor_B\n",
    "torch.mm(x, y.T)"
   ],
   "metadata": {
    "id": "fAeG7ox0lHEO",
    "ExecuteTime": {
     "end_time": "2023-08-03T00:22:02.514472Z",
     "start_time": "2023-08-03T00:22:02.506565Z"
    }
   },
   "execution_count": 27,
   "outputs": [
    {
     "data": {
      "text/plain": "tensor([[0.9868, 1.7565],\n        [0.6685, 1.2782]], device='mps:0')"
     },
     "execution_count": 27,
     "metadata": {},
     "output_type": "execute_result"
    }
   ]
  },
  {
   "cell_type": "markdown",
   "source": [
    "### 8. Find the maximum and minimum values of the output of 7."
   ],
   "metadata": {
    "id": "G7qfa5CSivwg"
   }
  },
  {
   "cell_type": "code",
   "source": [
    "# Find max\n",
    "tensor = torch.mm(x, y.T)\n",
    "# Find min\n",
    "\n",
    "tensor.min(), tensor.max()"
   ],
   "metadata": {
    "id": "Fu8_3mZpllOd",
    "ExecuteTime": {
     "end_time": "2023-08-03T00:22:55.468220Z",
     "start_time": "2023-08-03T00:22:55.348450Z"
    }
   },
   "execution_count": 29,
   "outputs": [
    {
     "data": {
      "text/plain": "(tensor(0.6685, device='mps:0'), tensor(1.7565, device='mps:0'))"
     },
     "execution_count": 29,
     "metadata": {},
     "output_type": "execute_result"
    }
   ]
  },
  {
   "cell_type": "markdown",
   "source": [
    "### 9. Find the maximum and minimum index values of the output of 7."
   ],
   "metadata": {
    "id": "wrTj5FgNiw47"
   }
  },
  {
   "cell_type": "code",
   "source": [
    "# Find arg max\n",
    "\n",
    "\n",
    "# Find arg min\n",
    "tensor.argmin(), tensor.argmax()\n"
   ],
   "metadata": {
    "id": "CCEKt4K2lsfQ",
    "ExecuteTime": {
     "end_time": "2023-08-03T00:23:21.568842Z",
     "start_time": "2023-08-03T00:23:21.557726Z"
    }
   },
   "execution_count": 32,
   "outputs": [
    {
     "data": {
      "text/plain": "(tensor(2, device='mps:0'), tensor(1, device='mps:0'))"
     },
     "execution_count": 32,
     "metadata": {},
     "output_type": "execute_result"
    }
   ]
  },
  {
   "cell_type": "markdown",
   "source": [
    "\n",
    "### 10. Make a random tensor with shape `(1, 1, 1, 10)` and then create a new tensor with all the `1` dimensions removed to be left with a tensor of shape `(10)`. Set the seed to `7` when you create it and print out the first tensor and it's shape as well as the second tensor and it's shape.\n",
    "\n",
    "The output should look like:\n",
    "\n",
    "```\n",
    "tensor([[[[0.5349, 0.1988, 0.6592, 0.6569, 0.2328, 0.4251, 0.2071, 0.6297,\n",
    "           0.3653, 0.8513]]]]) torch.Size([1, 1, 1, 10])\n",
    "tensor([0.5349, 0.1988, 0.6592, 0.6569, 0.2328, 0.4251, 0.2071, 0.6297, 0.3653,\n",
    "        0.8513]) torch.Size([10])\n",
    "```"
   ],
   "metadata": {
    "id": "hmeybz4uixy7"
   }
  },
  {
   "cell_type": "code",
   "source": [
    "# Set seed\n",
    "torch.manual_seed(7)\n",
    "\n",
    "# Create random tensor\n",
    "rand_tensor = torch.rand(size=(1, 1, 1, 10))\n",
    "\n",
    "# Remove single dimensions\n",
    "squeezed_tensor = torch.squeeze(rand_tensor)\n",
    "\n",
    "# Print out tensors and their shapes\n",
    "print((rand_tensor, rand_tensor.size()))\n",
    "print((squeezed_tensor, squeezed_tensor.size()))"
   ],
   "metadata": {
    "id": "TQ9zbRzVl1jV",
    "ExecuteTime": {
     "end_time": "2023-08-03T00:26:37.803881Z",
     "start_time": "2023-08-03T00:26:37.799903Z"
    }
   },
   "execution_count": 34,
   "outputs": [
    {
     "name": "stdout",
     "output_type": "stream",
     "text": [
      "(tensor([[[[0.5349, 0.1988, 0.6592, 0.6569, 0.2328, 0.4251, 0.2071, 0.6297,\n",
      "           0.3653, 0.8513]]]]), torch.Size([1, 1, 1, 10]))\n",
      "(tensor([0.5349, 0.1988, 0.6592, 0.6569, 0.2328, 0.4251, 0.2071, 0.6297, 0.3653,\n",
      "        0.8513]), torch.Size([10]))\n"
     ]
    }
   ]
  },
  {
   "cell_type": "code",
   "execution_count": null,
   "outputs": [],
   "source": [],
   "metadata": {
    "collapsed": false
   }
  }
 ]
}
