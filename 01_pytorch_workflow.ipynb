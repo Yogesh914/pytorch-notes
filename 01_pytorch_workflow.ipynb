{
 "cells": [
  {
   "cell_type": "markdown",
   "source": [
    "# PyTorch Workflow\n",
    "\n",
    "**Workflow:**\n",
    "1. Data (load and clean data)\n",
    "2. Build model\n",
    "3. Fit model to the data (training)\n",
    "4. Evaluate model\n",
    "5. Save and reload model"
   ],
   "metadata": {
    "collapsed": false
   },
   "id": "ad1e7d9c79382ac5"
  },
  {
   "cell_type": "code",
   "execution_count": 314,
   "outputs": [
    {
     "data": {
      "text/plain": "'2.0.1'"
     },
     "execution_count": 314,
     "metadata": {},
     "output_type": "execute_result"
    }
   ],
   "source": [
    "import matplotlib.pyplot as plt\n",
    "import numpy as np\n",
    "import torch\n",
    "from torch import nn\n",
    "from pathlib import Path\n",
    "\n",
    "torch.__version__"
   ],
   "metadata": {
    "collapsed": false,
    "ExecuteTime": {
     "end_time": "2023-08-06T13:54:10.275814Z",
     "start_time": "2023-08-06T13:54:10.257785Z"
    }
   },
   "id": "96090294334c99e4"
  },
  {
   "cell_type": "code",
   "execution_count": 313,
   "outputs": [
    {
     "data": {
      "text/plain": "True"
     },
     "execution_count": 313,
     "metadata": {},
     "output_type": "execute_result"
    }
   ],
   "source": [
    "torch.has_mps"
   ],
   "metadata": {
    "collapsed": false,
    "ExecuteTime": {
     "end_time": "2023-08-06T13:54:03.090033Z",
     "start_time": "2023-08-06T13:54:03.081116Z"
    }
   },
   "id": "cb79f9a07bbdc112"
  },
  {
   "cell_type": "markdown",
   "source": [
    "## 1. Data"
   ],
   "metadata": {
    "collapsed": false
   },
   "id": "3434f8a9ebc86fff"
  },
  {
   "cell_type": "code",
   "execution_count": null,
   "outputs": [
    {
     "data": {
      "text/plain": "(tensor([[0.0000],\n         [0.0200],\n         [0.0400],\n         [0.0600],\n         [0.0800],\n         [0.1000],\n         [0.1200],\n         [0.1400],\n         [0.1600],\n         [0.1800]]),\n tensor([[0.3000],\n         [0.3140],\n         [0.3280],\n         [0.3420],\n         [0.3560],\n         [0.3700],\n         [0.3840],\n         [0.3980],\n         [0.4120],\n         [0.4260]]))"
     },
     "execution_count": 295,
     "metadata": {},
     "output_type": "execute_result"
    }
   ],
   "source": [
    "# creating known parameters and sample linear regression problem\n",
    "\n",
    "weight = 0.7\n",
    "bias = 0.3\n",
    "\n",
    "start = 0\n",
    "end = 1\n",
    "\n",
    "step = 0.02\n",
    "\n",
    "X = torch.arange(start, end, step).unsqueeze(dim=1)\n",
    "y = weight * X + bias\n",
    "\n",
    "X[:10], y[:10]"
   ],
   "metadata": {
    "collapsed": false,
    "is_executing": true
   },
   "id": "192f8e3cb8eb0e64"
  },
  {
   "cell_type": "markdown",
   "source": [
    "### Splitting Data"
   ],
   "metadata": {
    "collapsed": false
   },
   "id": "44e4a6e8950898da"
  },
  {
   "cell_type": "code",
   "execution_count": null,
   "outputs": [
    {
     "data": {
      "text/plain": "(50, 50)"
     },
     "execution_count": 296,
     "metadata": {},
     "output_type": "execute_result"
    }
   ],
   "source": [
    "len(X), len(y)"
   ],
   "metadata": {
    "collapsed": false,
    "is_executing": true,
    "ExecuteTime": {
     "start_time": "2023-08-06T13:48:13.077340Z"
    }
   },
   "id": "30c6dbbb310cc9cb"
  },
  {
   "cell_type": "code",
   "execution_count": null,
   "outputs": [
    {
     "data": {
      "text/plain": "(10, 10, 40, 40)"
     },
     "execution_count": 297,
     "metadata": {},
     "output_type": "execute_result"
    }
   ],
   "source": [
    "train_split = int(0.8*len(X))\n",
    "X_train, y_train = X[:train_split], y[:train_split]\n",
    "X_test, y_test = X[train_split:], y[train_split:]\n",
    "\n",
    "len(X_test), len(y_test), len(X_train), len(y_train)"
   ],
   "metadata": {
    "collapsed": false,
    "is_executing": true,
    "ExecuteTime": {
     "start_time": "2023-08-06T13:48:13.078506Z"
    }
   },
   "id": "ef230f0e79141b"
  },
  {
   "cell_type": "code",
   "execution_count": null,
   "outputs": [],
   "source": [
    "def plot_predictions(training_data= X_train, train_labels = y_train, test_data=X_test, test_labels=y_test, predictions=None):\n",
    "    \"\"\"\n",
    "    Plots Predictions\n",
    "    \"\"\"\n",
    "    \n",
    "    plt.figure(figsize=(10,7))\n",
    "    \n",
    "    plt.scatter(training_data, train_labels, c=\"b\", s=10, label=\"Training Data\")\n",
    "    \n",
    "    plt.scatter(test_data, test_labels, c=\"g\", s=10, label=\"Testing Data\")\n",
    "    \n",
    "    if predictions is not None:\n",
    "        plt.scatter(test_data, predictions, c=\"r\", s=10, label=\"Predictions\")\n",
    "    \n",
    "    plt.legend(prop={\"size\": 14});"
   ],
   "metadata": {
    "collapsed": false,
    "is_executing": true,
    "ExecuteTime": {
     "start_time": "2023-08-06T13:48:13.079799Z"
    }
   },
   "id": "25977593103c5280"
  },
  {
   "cell_type": "code",
   "execution_count": null,
   "outputs": [
    {
     "data": {
      "text/plain": "<Figure size 1000x700 with 1 Axes>",
      "image/png": "[encoded data removed]"
     },
     "metadata": {},
     "output_type": "display_data"
    }
   ],
   "source": [
    "plot_predictions()"
   ],
   "metadata": {
    "collapsed": false,
    "is_executing": true,
    "ExecuteTime": {
     "start_time": "2023-08-06T13:48:13.080438Z"
    }
   },
   "id": "b9283b7e016cbfda"
  },
  {
   "cell_type": "markdown",
   "source": [
    "## 2. Build Model\n",
    "\n",
    "What this model does:\n",
    "* Starts with random values for weight and bias\n",
    "* Looks at the training data to adjust the random values to better represent or get closer to the ideal weight and bias values\n",
    "\n",
    "How does the model do this?\n",
    "1. Gradient Descent\n",
    "2. Backpropagation"
   ],
   "metadata": {
    "collapsed": false
   },
   "id": "3a40849dfc2cb0db"
  },
  {
   "cell_type": "code",
   "execution_count": null,
   "outputs": [],
   "source": [
    "class LinearRegressionModel(nn.Module): # <- almost everything in pytorch inherits from nn.Module\n",
    "    def __init__(self):\n",
    "        super().__init__()\n",
    "        \n",
    "        # Initialize model parameters/layers\n",
    "        self.weights = nn.Parameter(torch.randn(1, requires_grad=True, dtype=torch.float32))\n",
    "        #requires grad -> gradient descent\n",
    "        \n",
    "        self.bias = nn.Parameter(torch.randn(1, requires_grad=True, dtype=torch.float32))\n",
    "        \n",
    "        # forward method defines the computation of the model\n",
    "    def forward(self, x: torch.Tensor) -> torch.Tensor:\n",
    "        return self.weights * x + self.bias"
   ],
   "metadata": {
    "collapsed": false,
    "is_executing": true,
    "ExecuteTime": {
     "start_time": "2023-08-06T13:48:13.081607Z"
    }
   },
   "id": "798493c1e239f87c"
  },
  {
   "cell_type": "markdown",
   "source": [
    "### Model Building Essentials\n",
    "\n",
    "* `torch.nn` - contains all the building locks for computational graphs \n",
    "* `torch.nn.Parameter` - what parameters should our model try and learn, often a PyTorch layer from torch.nn will set these for us\n",
    "* `torch.nn.Module` - the base class for all neural network modules, when used as a subclass you should always overwrite forward() method\n",
    "* `torch.optim` - where the optimizers in pytorch live, they help with gradient descent\n",
    "* `def forward()` - all nn.Module subclass require to overwrite this method, which defines the computation of the model "
   ],
   "metadata": {
    "collapsed": false
   },
   "id": "e39a91df111cc04e"
  },
  {
   "cell_type": "code",
   "execution_count": 301,
   "outputs": [
    {
     "data": {
      "text/plain": "[Parameter containing:\n tensor([0.3367], requires_grad=True),\n Parameter containing:\n tensor([0.1288], requires_grad=True)]"
     },
     "execution_count": 301,
     "metadata": {},
     "output_type": "execute_result"
    }
   ],
   "source": [
    "# Create random seed\n",
    "torch.manual_seed(42)\n",
    "\n",
    "model_0 = LinearRegressionModel()\n",
    "\n",
    "list(model_0.parameters())"
   ],
   "metadata": {
    "collapsed": false,
    "ExecuteTime": {
     "start_time": "2023-08-06T13:48:13.082105Z"
    }
   },
   "id": "54f9ef0dac20fdaf"
  },
  {
   "cell_type": "code",
   "execution_count": 302,
   "outputs": [
    {
     "data": {
      "text/plain": "OrderedDict([('weights', tensor([0.3367])), ('bias', tensor([0.1288]))])"
     },
     "execution_count": 302,
     "metadata": {},
     "output_type": "execute_result"
    }
   ],
   "source": [
    "model_0.state_dict()"
   ],
   "metadata": {
    "collapsed": false,
    "ExecuteTime": {
     "end_time": "2023-08-06T13:48:13.085260Z",
     "start_time": "2023-08-06T13:48:13.083086Z"
    }
   },
   "id": "b98c84d448bc9182"
  },
  {
   "cell_type": "markdown",
   "source": [
    "### Making Predictions"
   ],
   "metadata": {
    "collapsed": false
   },
   "id": "752e5bcdd0cc837e"
  },
  {
   "cell_type": "code",
   "execution_count": 303,
   "outputs": [
    {
     "data": {
      "text/plain": "tensor([[0.3982],\n        [0.4049],\n        [0.4116],\n        [0.4184],\n        [0.4251],\n        [0.4318],\n        [0.4386],\n        [0.4453],\n        [0.4520],\n        [0.4588]])"
     },
     "execution_count": 303,
     "metadata": {},
     "output_type": "execute_result"
    }
   ],
   "source": [
    "with torch.inference_mode():\n",
    "    y_preds = model_0(X_test)\n",
    "    \n",
    "y_preds"
   ],
   "metadata": {
    "collapsed": false,
    "ExecuteTime": {
     "end_time": "2023-08-06T13:48:13.089422Z",
     "start_time": "2023-08-06T13:48:13.088388Z"
    }
   },
   "id": "af64636404d4ea2d"
  },
  {
   "cell_type": "code",
   "execution_count": 304,
   "outputs": [
    {
     "data": {
      "text/plain": "<Figure size 1000x700 with 1 Axes>",
      "image/png": "[encoded data removed]"
     },
     "metadata": {},
     "output_type": "display_data"
    }
   ],
   "source": [
    "plot_predictions(predictions=y_preds)"
   ],
   "metadata": {
    "collapsed": false,
    "ExecuteTime": {
     "end_time": "2023-08-06T13:48:13.179034Z",
     "start_time": "2023-08-06T13:48:13.091063Z"
    }
   },
   "id": "f636880bb33d4452"
  },
  {
   "cell_type": "markdown",
   "source": [
    "## 3. Train Model"
   ],
   "metadata": {
    "collapsed": false
   },
   "id": "765f9c8aae750eaa"
  },
  {
   "cell_type": "code",
   "execution_count": 305,
   "outputs": [],
   "source": [
    "# loss function\n",
    "loss_fn = nn.L1Loss()\n",
    "\n",
    "# optimizer (stochastic gradient descent)\n",
    "optimizer = torch.optim.SGD(params=model_0.parameters(), \n",
    "                            lr=0.01)"
   ],
   "metadata": {
    "collapsed": false,
    "ExecuteTime": {
     "end_time": "2023-08-06T13:48:13.179714Z",
     "start_time": "2023-08-06T13:48:13.178191Z"
    }
   },
   "id": "acb4e71f4a7c8db5"
  },
  {
   "cell_type": "markdown",
   "source": [
    "### Training Loop + Testing Loop\n",
    "\n",
    "0. Loop through data\n",
    "1. Forward pass/propagation (involves data moving through the `forward()` function or data moving through layers from input to output layer) to make predictions on data\n",
    "2. Calculate the loss (compare forward pass predictions to ground truth labels)\n",
    "3. Optimizer zero grad\n",
    "4. Loss backward - move backwards through the network to calculate the gradients of each of the parameters of our model with respect to the loss (backpropagation)\n",
    "5. Optimizer step - use the optimizer to adjust our model's parameters to try and improve the loss (gradient descent)"
   ],
   "metadata": {
    "collapsed": false
   },
   "id": "b95cf54297a5e466"
  },
  {
   "cell_type": "code",
   "execution_count": 306,
   "outputs": [
    {
     "name": "stdout",
     "output_type": "stream",
     "text": [
      "Epoch: 0 | Loss: 0.31288138031959534 | Test Loss: 0.48106518387794495\n",
      "Epoch: 1 | Loss: 0.3013603389263153 | Test Loss: 0.4675942063331604\n",
      "Epoch: 2 | Loss: 0.28983935713768005 | Test Loss: 0.4541231691837311\n",
      "Epoch: 3 | Loss: 0.2783183455467224 | Test Loss: 0.44065219163894653\n",
      "Epoch: 4 | Loss: 0.26679736375808716 | Test Loss: 0.4271811842918396\n",
      "Epoch: 5 | Loss: 0.2552763521671295 | Test Loss: 0.41371020674705505\n",
      "Epoch: 6 | Loss: 0.24375534057617188 | Test Loss: 0.40023916959762573\n",
      "Epoch: 7 | Loss: 0.23223432898521423 | Test Loss: 0.3867681920528412\n",
      "Epoch: 8 | Loss: 0.22071333229541779 | Test Loss: 0.37329721450805664\n",
      "Epoch: 9 | Loss: 0.20919232070446014 | Test Loss: 0.3598262071609497\n",
      "Epoch: 10 | Loss: 0.1976713240146637 | Test Loss: 0.3463551998138428\n",
      "Epoch: 11 | Loss: 0.18615034222602844 | Test Loss: 0.3328842222690582\n",
      "Epoch: 12 | Loss: 0.1746293306350708 | Test Loss: 0.3194132149219513\n",
      "Epoch: 13 | Loss: 0.16310831904411316 | Test Loss: 0.30594223737716675\n",
      "Epoch: 14 | Loss: 0.1515873372554779 | Test Loss: 0.2924712300300598\n",
      "Epoch: 15 | Loss: 0.14006634056568146 | Test Loss: 0.27900025248527527\n",
      "Epoch: 16 | Loss: 0.1285453587770462 | Test Loss: 0.2655292749404907\n",
      "Epoch: 17 | Loss: 0.11702437698841095 | Test Loss: 0.2520582973957062\n",
      "Epoch: 18 | Loss: 0.1060912236571312 | Test Loss: 0.2395961582660675\n",
      "Epoch: 19 | Loss: 0.09681282937526703 | Test Loss: 0.22817862033843994\n",
      "Epoch: 20 | Loss: 0.08908725529909134 | Test Loss: 0.21729660034179688\n",
      "Epoch: 21 | Loss: 0.08227583020925522 | Test Loss: 0.2069590985774994\n",
      "Epoch: 22 | Loss: 0.07638873159885406 | Test Loss: 0.19773726165294647\n",
      "Epoch: 23 | Loss: 0.07160007208585739 | Test Loss: 0.1890866756439209\n",
      "Epoch: 24 | Loss: 0.06747636198997498 | Test Loss: 0.18101617693901062\n",
      "Epoch: 25 | Loss: 0.06395438313484192 | Test Loss: 0.17353470623493195\n",
      "Epoch: 26 | Loss: 0.06097004562616348 | Test Loss: 0.16665108501911163\n",
      "Epoch: 27 | Loss: 0.05845819041132927 | Test Loss: 0.16037428379058838\n",
      "Epoch: 28 | Loss: 0.05635259300470352 | Test Loss: 0.15471318364143372\n",
      "Epoch: 29 | Loss: 0.0545857734978199 | Test Loss: 0.14967669546604156\n",
      "Epoch: 30 | Loss: 0.053148526698350906 | Test Loss: 0.14464017748832703\n",
      "Epoch: 31 | Loss: 0.05181945487856865 | Test Loss: 0.14023718237876892\n",
      "Epoch: 32 | Loss: 0.05069301277399063 | Test Loss: 0.13647659122943878\n",
      "Epoch: 33 | Loss: 0.049822848290205 | Test Loss: 0.13271598517894745\n",
      "Epoch: 34 | Loss: 0.04895269125699997 | Test Loss: 0.12895536422729492\n",
      "Epoch: 35 | Loss: 0.04819351062178612 | Test Loss: 0.12584610283374786\n",
      "Epoch: 36 | Loss: 0.047531817108392715 | Test Loss: 0.12273679673671722\n",
      "Epoch: 37 | Loss: 0.04692792519927025 | Test Loss: 0.1202877014875412\n",
      "Epoch: 38 | Loss: 0.04642331600189209 | Test Loss: 0.11783860623836517\n",
      "Epoch: 39 | Loss: 0.04591871052980423 | Test Loss: 0.11538954079151154\n",
      "Epoch: 40 | Loss: 0.04543796554207802 | Test Loss: 0.11360953003168106\n",
      "Epoch: 41 | Loss: 0.04503796249628067 | Test Loss: 0.11182951927185059\n",
      "Epoch: 42 | Loss: 0.044637955725193024 | Test Loss: 0.1100495308637619\n",
      "Epoch: 43 | Loss: 0.04423796385526657 | Test Loss: 0.10826952755451202\n",
      "Epoch: 44 | Loss: 0.043837957084178925 | Test Loss: 0.10648951679468155\n",
      "Epoch: 45 | Loss: 0.04343796148896217 | Test Loss: 0.10470950603485107\n",
      "Epoch: 46 | Loss: 0.043074630200862885 | Test Loss: 0.10360751301050186\n",
      "Epoch: 47 | Loss: 0.04272563382983208 | Test Loss: 0.10250549018383026\n",
      "Epoch: 48 | Loss: 0.04237663000822067 | Test Loss: 0.10140349715948105\n",
      "Epoch: 49 | Loss: 0.04202762991189957 | Test Loss: 0.10030148178339005\n",
      "Epoch: 50 | Loss: 0.04167863354086876 | Test Loss: 0.09919948130846024\n",
      "Epoch: 51 | Loss: 0.04132963344454765 | Test Loss: 0.09809747338294983\n",
      "Epoch: 52 | Loss: 0.04098063334822655 | Test Loss: 0.09699545800685883\n",
      "Epoch: 53 | Loss: 0.04063162952661514 | Test Loss: 0.09589345753192902\n",
      "Epoch: 54 | Loss: 0.040282636880874634 | Test Loss: 0.0947914719581604\n",
      "Epoch: 55 | Loss: 0.039933644235134125 | Test Loss: 0.09368947893381119\n",
      "Epoch: 56 | Loss: 0.03958464413881302 | Test Loss: 0.09258746355772018\n",
      "Epoch: 57 | Loss: 0.03923564404249191 | Test Loss: 0.09148545563220978\n",
      "Epoch: 58 | Loss: 0.03888664394617081 | Test Loss: 0.09038344770669937\n",
      "Epoch: 59 | Loss: 0.0385376438498497 | Test Loss: 0.08928143978118896\n",
      "Epoch: 60 | Loss: 0.03818932920694351 | Test Loss: 0.08886633068323135\n",
      "Epoch: 61 | Loss: 0.03785243630409241 | Test Loss: 0.08776430785655975\n",
      "Epoch: 62 | Loss: 0.0375034399330616 | Test Loss: 0.08666229248046875\n",
      "Epoch: 63 | Loss: 0.037164121866226196 | Test Loss: 0.08624717593193054\n",
      "Epoch: 64 | Loss: 0.03681822493672371 | Test Loss: 0.08514519035816193\n",
      "Epoch: 65 | Loss: 0.03647511452436447 | Test Loss: 0.08473004400730133\n",
      "Epoch: 66 | Loss: 0.036133039742708206 | Test Loss: 0.08362803608179092\n",
      "Epoch: 67 | Loss: 0.03578609973192215 | Test Loss: 0.08321291208267212\n",
      "Epoch: 68 | Loss: 0.03544783592224121 | Test Loss: 0.08211090415716171\n",
      "Epoch: 69 | Loss: 0.035098835825920105 | Test Loss: 0.0810088962316513\n",
      "Epoch: 70 | Loss: 0.03476089984178543 | Test Loss: 0.0805937647819519\n",
      "Epoch: 71 | Loss: 0.03441363573074341 | Test Loss: 0.0794917643070221\n",
      "Epoch: 72 | Loss: 0.03407188132405281 | Test Loss: 0.07907666265964508\n",
      "Epoch: 73 | Loss: 0.03372843936085701 | Test Loss: 0.07797462493181229\n",
      "Epoch: 74 | Loss: 0.03338287025690079 | Test Loss: 0.07755951583385468\n",
      "Epoch: 75 | Loss: 0.033043231815099716 | Test Loss: 0.07645749300718307\n",
      "Epoch: 76 | Loss: 0.03269423171877861 | Test Loss: 0.07535548508167267\n",
      "Epoch: 77 | Loss: 0.03235765919089317 | Test Loss: 0.07494036853313446\n",
      "Epoch: 78 | Loss: 0.03200903534889221 | Test Loss: 0.07383836805820465\n",
      "Epoch: 79 | Loss: 0.03166865184903145 | Test Loss: 0.07342323660850525\n",
      "Epoch: 80 | Loss: 0.03132382780313492 | Test Loss: 0.07232122868299484\n",
      "Epoch: 81 | Loss: 0.030979638919234276 | Test Loss: 0.07190609723329544\n",
      "Epoch: 82 | Loss: 0.030638623982667923 | Test Loss: 0.07080408930778503\n",
      "Epoch: 83 | Loss: 0.0302906334400177 | Test Loss: 0.07038896530866623\n",
      "Epoch: 84 | Loss: 0.029953425750136375 | Test Loss: 0.06928696483373642\n",
      "Epoch: 85 | Loss: 0.02960442565381527 | Test Loss: 0.06818496435880661\n",
      "Epoch: 86 | Loss: 0.029265422374010086 | Test Loss: 0.0677698403596878\n",
      "Epoch: 87 | Loss: 0.028919225558638573 | Test Loss: 0.0666678324341774\n",
      "Epoch: 88 | Loss: 0.028576409444212914 | Test Loss: 0.066252700984478\n",
      "Epoch: 89 | Loss: 0.028234023600816727 | Test Loss: 0.06515069305896759\n",
      "Epoch: 90 | Loss: 0.02788740023970604 | Test Loss: 0.06473556160926819\n",
      "Epoch: 91 | Loss: 0.02754882536828518 | Test Loss: 0.06363357603549957\n",
      "Epoch: 92 | Loss: 0.027199819684028625 | Test Loss: 0.06253156810998917\n",
      "Epoch: 93 | Loss: 0.026862185448408127 | Test Loss: 0.062116436660289764\n",
      "Epoch: 94 | Loss: 0.02651461958885193 | Test Loss: 0.061014432460069656\n",
      "Epoch: 95 | Loss: 0.026173178106546402 | Test Loss: 0.06059930846095085\n",
      "Epoch: 96 | Loss: 0.025829419493675232 | Test Loss: 0.05949730426073074\n",
      "Epoch: 97 | Loss: 0.025484168902039528 | Test Loss: 0.05908216908574104\n",
      "Epoch: 98 | Loss: 0.025144215673208237 | Test Loss: 0.057980168610811234\n",
      "Epoch: 99 | Loss: 0.02479521930217743 | Test Loss: 0.05687814950942993\n",
      "Epoch: 100 | Loss: 0.024458957836031914 | Test Loss: 0.05646304413676262\n",
      "Epoch: 101 | Loss: 0.024110015481710434 | Test Loss: 0.05536102131009102\n",
      "Epoch: 102 | Loss: 0.02376994863152504 | Test Loss: 0.05494590476155281\n",
      "Epoch: 103 | Loss: 0.02342480979859829 | Test Loss: 0.05384388566017151\n",
      "Epoch: 104 | Loss: 0.023080939427018166 | Test Loss: 0.0534287691116333\n",
      "Epoch: 105 | Loss: 0.022739609703421593 | Test Loss: 0.052326757460832596\n",
      "Epoch: 106 | Loss: 0.022391926497220993 | Test Loss: 0.05191164091229439\n",
      "Epoch: 107 | Loss: 0.022054409608244896 | Test Loss: 0.05080962926149368\n",
      "Epoch: 108 | Loss: 0.02170540764927864 | Test Loss: 0.049707621335983276\n",
      "Epoch: 109 | Loss: 0.02136671543121338 | Test Loss: 0.04929249361157417\n",
      "Epoch: 110 | Loss: 0.021020209416747093 | Test Loss: 0.04819049686193466\n",
      "Epoch: 111 | Loss: 0.020677711814641953 | Test Loss: 0.04777535796165466\n",
      "Epoch: 112 | Loss: 0.020335007458925247 | Test Loss: 0.046673357486724854\n",
      "Epoch: 113 | Loss: 0.01998869702219963 | Test Loss: 0.04625822976231575\n",
      "Epoch: 114 | Loss: 0.019649803638458252 | Test Loss: 0.045156221836805344\n",
      "Epoch: 115 | Loss: 0.019300809130072594 | Test Loss: 0.04405422881245613\n",
      "Epoch: 116 | Loss: 0.018963487818837166 | Test Loss: 0.04363910108804703\n",
      "Epoch: 117 | Loss: 0.01861559972167015 | Test Loss: 0.04253707453608513\n",
      "Epoch: 118 | Loss: 0.018274478614330292 | Test Loss: 0.042121969163417816\n",
      "Epoch: 119 | Loss: 0.01793040707707405 | Test Loss: 0.04101995751261711\n",
      "Epoch: 120 | Loss: 0.01758546754717827 | Test Loss: 0.04060482233762741\n",
      "Epoch: 121 | Loss: 0.017245199531316757 | Test Loss: 0.0395028181374073\n",
      "Epoch: 122 | Loss: 0.016896454617381096 | Test Loss: 0.0390876941382885\n",
      "Epoch: 123 | Loss: 0.01656000316143036 | Test Loss: 0.037985701113939285\n",
      "Epoch: 124 | Loss: 0.016210999339818954 | Test Loss: 0.03688368946313858\n",
      "Epoch: 125 | Loss: 0.01587124727666378 | Test Loss: 0.036468543112277985\n",
      "Epoch: 126 | Loss: 0.015525800175964832 | Test Loss: 0.035366542637348175\n",
      "Epoch: 127 | Loss: 0.015182236209511757 | Test Loss: 0.034951429814100266\n",
      "Epoch: 128 | Loss: 0.014840595424175262 | Test Loss: 0.03384942561388016\n",
      "Epoch: 129 | Loss: 0.01449323259294033 | Test Loss: 0.03343429043889046\n",
      "Epoch: 130 | Loss: 0.014155392535030842 | Test Loss: 0.03233227878808975\n",
      "Epoch: 131 | Loss: 0.013806397095322609 | Test Loss: 0.031230276450514793\n",
      "Epoch: 132 | Loss: 0.013468015007674694 | Test Loss: 0.030815154314041138\n",
      "Epoch: 133 | Loss: 0.013121193274855614 | Test Loss: 0.02971314825117588\n",
      "Epoch: 134 | Loss: 0.01277900766581297 | Test Loss: 0.02929801307618618\n",
      "Epoch: 135 | Loss: 0.012435990385711193 | Test Loss: 0.028196018189191818\n",
      "Epoch: 136 | Loss: 0.012089998461306095 | Test Loss: 0.027780896052718163\n",
      "Epoch: 137 | Loss: 0.01175079494714737 | Test Loss: 0.026678884401917458\n",
      "Epoch: 138 | Loss: 0.011401789262890816 | Test Loss: 0.025576870888471603\n",
      "Epoch: 139 | Loss: 0.011064786463975906 | Test Loss: 0.025161748751997948\n",
      "Epoch: 140 | Loss: 0.010716588236391544 | Test Loss: 0.024059748277068138\n",
      "Epoch: 141 | Loss: 0.010375780053436756 | Test Loss: 0.023644620552659035\n",
      "Epoch: 142 | Loss: 0.010031387209892273 | Test Loss: 0.022542614489793777\n",
      "Epoch: 143 | Loss: 0.00968676432967186 | Test Loss: 0.022127490490674973\n",
      "Epoch: 144 | Loss: 0.00934618804603815 | Test Loss: 0.021025484427809715\n",
      "Epoch: 145 | Loss: 0.008997755125164986 | Test Loss: 0.020610356703400612\n",
      "Epoch: 146 | Loss: 0.008660982362926006 | Test Loss: 0.019508343189954758\n",
      "Epoch: 147 | Loss: 0.008311985060572624 | Test Loss: 0.018406350165605545\n",
      "Epoch: 148 | Loss: 0.007972546853125095 | Test Loss: 0.017991220578551292\n",
      "Epoch: 149 | Loss: 0.007626786828041077 | Test Loss: 0.016889220103621483\n",
      "Epoch: 150 | Loss: 0.0072835348546504974 | Test Loss: 0.016474086791276932\n",
      "Epoch: 151 | Loss: 0.0069415816105902195 | Test Loss: 0.0153720797970891\n",
      "Epoch: 152 | Loss: 0.006594527512788773 | Test Loss: 0.01495695672929287\n",
      "Epoch: 153 | Loss: 0.006256377790123224 | Test Loss: 0.013854950666427612\n",
      "Epoch: 154 | Loss: 0.005907378159463406 | Test Loss: 0.012752944603562355\n",
      "Epoch: 155 | Loss: 0.005569314118474722 | Test Loss: 0.012337815947830677\n",
      "Epoch: 156 | Loss: 0.005222179926931858 | Test Loss: 0.011235815472900867\n",
      "Epoch: 157 | Loss: 0.004880307707935572 | Test Loss: 0.010820692405104637\n",
      "Epoch: 158 | Loss: 0.004536977503448725 | Test Loss: 0.009718680754303932\n",
      "Epoch: 159 | Loss: 0.00419129803776741 | Test Loss: 0.009303552098572254\n",
      "Epoch: 160 | Loss: 0.003851778106763959 | Test Loss: 0.008201557211577892\n",
      "Epoch: 161 | Loss: 0.0035027742851525545 | Test Loss: 0.007099539041519165\n",
      "Epoch: 162 | Loss: 0.0031660839449614286 | Test Loss: 0.006684416439384222\n",
      "Epoch: 163 | Loss: 0.0028175704646855593 | Test Loss: 0.0055824099108576775\n",
      "Epoch: 164 | Loss: 0.002477074507623911 | Test Loss: 0.005167287774384022\n",
      "Epoch: 165 | Loss: 0.0021323724649846554 | Test Loss: 0.004065275192260742\n",
      "Epoch: 166 | Loss: 0.0017880633240565658 | Test Loss: 0.003650152590125799\n",
      "Epoch: 167 | Loss: 0.0014518297975882888 | Test Loss: 0.0018701612716540694\n",
      "Epoch: 168 | Loss: 0.0011887758737429976 | Test Loss: 0.005023092031478882\n",
      "Epoch: 169 | Loss: 0.0025885060895234346 | Test Loss: 0.008447891101241112\n",
      "Epoch: 170 | Loss: 0.00893248151987791 | Test Loss: 0.005023092031478882\n",
      "Epoch: 171 | Loss: 0.0025885060895234346 | Test Loss: 0.008447891101241112\n",
      "Epoch: 172 | Loss: 0.00893248151987791 | Test Loss: 0.005023092031478882\n",
      "Epoch: 173 | Loss: 0.0025885060895234346 | Test Loss: 0.008447891101241112\n",
      "Epoch: 174 | Loss: 0.00893248151987791 | Test Loss: 0.005023092031478882\n",
      "Epoch: 175 | Loss: 0.0025885060895234346 | Test Loss: 0.008447891101241112\n",
      "Epoch: 176 | Loss: 0.00893248151987791 | Test Loss: 0.005023092031478882\n",
      "Epoch: 177 | Loss: 0.0025885060895234346 | Test Loss: 0.008447891101241112\n",
      "Epoch: 178 | Loss: 0.00893248151987791 | Test Loss: 0.005023092031478882\n",
      "Epoch: 179 | Loss: 0.0025885060895234346 | Test Loss: 0.008447891101241112\n",
      "Epoch: 180 | Loss: 0.00893248151987791 | Test Loss: 0.005023092031478882\n",
      "Epoch: 181 | Loss: 0.0025885060895234346 | Test Loss: 0.008447891101241112\n",
      "Epoch: 182 | Loss: 0.00893248151987791 | Test Loss: 0.005023092031478882\n",
      "Epoch: 183 | Loss: 0.0025885060895234346 | Test Loss: 0.008447891101241112\n",
      "Epoch: 184 | Loss: 0.00893248151987791 | Test Loss: 0.005023092031478882\n",
      "Epoch: 185 | Loss: 0.0025885060895234346 | Test Loss: 0.008447891101241112\n",
      "Epoch: 186 | Loss: 0.00893248151987791 | Test Loss: 0.005023092031478882\n",
      "Epoch: 187 | Loss: 0.0025885060895234346 | Test Loss: 0.008447891101241112\n",
      "Epoch: 188 | Loss: 0.00893248151987791 | Test Loss: 0.005023092031478882\n",
      "Epoch: 189 | Loss: 0.0025885060895234346 | Test Loss: 0.008447891101241112\n",
      "Epoch: 190 | Loss: 0.00893248151987791 | Test Loss: 0.005023092031478882\n",
      "Epoch: 191 | Loss: 0.0025885060895234346 | Test Loss: 0.008447891101241112\n",
      "Epoch: 192 | Loss: 0.00893248151987791 | Test Loss: 0.005023092031478882\n",
      "Epoch: 193 | Loss: 0.0025885060895234346 | Test Loss: 0.008447891101241112\n",
      "Epoch: 194 | Loss: 0.00893248151987791 | Test Loss: 0.005023092031478882\n",
      "Epoch: 195 | Loss: 0.0025885060895234346 | Test Loss: 0.008447891101241112\n",
      "Epoch: 196 | Loss: 0.00893248151987791 | Test Loss: 0.005023092031478882\n",
      "Epoch: 197 | Loss: 0.0025885060895234346 | Test Loss: 0.008447891101241112\n",
      "Epoch: 198 | Loss: 0.00893248151987791 | Test Loss: 0.005023092031478882\n",
      "Epoch: 199 | Loss: 0.0025885060895234346 | Test Loss: 0.008447891101241112\n"
     ]
    }
   ],
   "source": [
    "torch.manual_seed(42)\n",
    "epochs = 200\n",
    "\n",
    "epoch_count = []\n",
    "loss_values = []\n",
    "test_loss_values = []\n",
    "\n",
    "for epoch in range(epochs):\n",
    "    model_0.train()\n",
    "    \n",
    "    y_pred = model_0(X_train)\n",
    "    \n",
    "    loss = loss_fn(y_pred, y_train)\n",
    "    \n",
    "    optimizer.zero_grad()\n",
    "    \n",
    "    loss.backward()\n",
    "    \n",
    "    optimizer.step()\n",
    "    \n",
    "    ## Testing\n",
    "    model_0.eval() # turns off different settings that are not used for testing/evaluation\n",
    "    \n",
    "    with torch.inference_mode(): # turns off gradient tracking and some other things as well\n",
    "        # 1. Do the forward pass\n",
    "        test_pred = model_0(X_test)\n",
    "        \n",
    "        # 2. Calculate the loss\n",
    "        test_loss = loss_fn(test_pred, y_test)\n",
    "        \n",
    "    epoch_count.append(epoch)\n",
    "    loss_values.append(loss)\n",
    "    test_loss_values.append(test_loss)\n",
    "    print(f\"Epoch: {epoch} | Loss: {loss} | Test Loss: {test_loss}\")\n",
    "    "
   ],
   "metadata": {
    "collapsed": false,
    "ExecuteTime": {
     "end_time": "2023-08-06T13:48:13.205539Z",
     "start_time": "2023-08-06T13:48:13.179792Z"
    }
   },
   "id": "7e8b86a197bb50f4"
  },
  {
   "cell_type": "code",
   "execution_count": 307,
   "outputs": [
    {
     "data": {
      "text/plain": "OrderedDict([('weights', tensor([0.6990])), ('bias', tensor([0.3093]))])"
     },
     "execution_count": 307,
     "metadata": {},
     "output_type": "execute_result"
    }
   ],
   "source": [
    "model_0.state_dict()"
   ],
   "metadata": {
    "collapsed": false,
    "ExecuteTime": {
     "end_time": "2023-08-06T13:48:13.206526Z",
     "start_time": "2023-08-06T13:48:13.203643Z"
    }
   },
   "id": "6fba47ac8d9792d8"
  },
  {
   "cell_type": "code",
   "execution_count": 308,
   "outputs": [],
   "source": [
    "with torch.inference_mode():\n",
    "    y_preds_new = model_0(X_test)"
   ],
   "metadata": {
    "collapsed": false,
    "ExecuteTime": {
     "end_time": "2023-08-06T13:48:13.211066Z",
     "start_time": "2023-08-06T13:48:13.206801Z"
    }
   },
   "id": "e7bb657646ea5225"
  },
  {
   "cell_type": "code",
   "execution_count": 309,
   "outputs": [
    {
     "data": {
      "text/plain": "<Figure size 1000x700 with 1 Axes>",
      "image/png": "[encoded data removed]"
     },
     "metadata": {},
     "output_type": "display_data"
    }
   ],
   "source": [
    "plot_predictions(predictions=y_preds_new)"
   ],
   "metadata": {
    "collapsed": false,
    "ExecuteTime": {
     "end_time": "2023-08-06T13:48:13.302749Z",
     "start_time": "2023-08-06T13:48:13.210254Z"
    }
   },
   "id": "27f1eb15f04e153b"
  },
  {
   "cell_type": "code",
   "execution_count": 310,
   "outputs": [
    {
     "data": {
      "text/plain": "<Figure size 640x480 with 1 Axes>",
      "image/png": "[encoded data removed]"
     },
     "metadata": {},
     "output_type": "display_data"
    }
   ],
   "source": [
    "plt.plot(epoch_count, np.array(torch.tensor(loss_values).cpu().numpy()), label=\"Train Loss\")\n",
    "plt.plot(epoch_count, test_loss_values, label=\"Test Loss\")\n",
    "plt.title(\"Training and Test Loss Curves\")\n",
    "plt.ylabel(\"Loss\")\n",
    "plt.xlabel(\"Epochs\")\n",
    "plt.show();"
   ],
   "metadata": {
    "collapsed": false,
    "ExecuteTime": {
     "end_time": "2023-08-06T13:48:13.361903Z",
     "start_time": "2023-08-06T13:48:13.300436Z"
    }
   },
   "id": "db9d5622ed82de03"
  },
  {
   "cell_type": "markdown",
   "source": [],
   "metadata": {
    "collapsed": false
   },
   "id": "3ffd00687a6ac8e4"
  },
  {
   "cell_type": "markdown",
   "source": [
    "## 5. Saving Model"
   ],
   "metadata": {
    "collapsed": false
   },
   "id": "75aa8470f8162725"
  },
  {
   "cell_type": "code",
   "execution_count": 311,
   "outputs": [
    {
     "data": {
      "text/plain": "OrderedDict([('weights', tensor([0.6990])), ('bias', tensor([0.3093]))])"
     },
     "execution_count": 311,
     "metadata": {},
     "output_type": "execute_result"
    }
   ],
   "source": [
    "model_0.state_dict()"
   ],
   "metadata": {
    "collapsed": false,
    "ExecuteTime": {
     "end_time": "2023-08-06T13:50:00.843746Z",
     "start_time": "2023-08-06T13:50:00.816311Z"
    }
   },
   "id": "a5725ee4b1ceb2c5"
  },
  {
   "cell_type": "code",
   "execution_count": 316,
   "outputs": [],
   "source": [
    "MODEL_PATH = Path(\"models\")\n",
    "MODEL_PATH.mkdir(parents=True, exist_ok=True)\n",
    "MODEL_NAME = \"01_pt_workflow_model_0.pth\"\n",
    "MODEL_SAVE_PATH = MODEL_PATH / MODEL_NAME\n",
    "\n",
    "torch.save(obj=model_0.state_dict(), f=MODEL_SAVE_PATH)"
   ],
   "metadata": {
    "collapsed": false,
    "ExecuteTime": {
     "end_time": "2023-08-06T13:58:26.484406Z",
     "start_time": "2023-08-06T13:58:26.465751Z"
    }
   },
   "id": "92e4eed98043281d"
  },
  {
   "cell_type": "code",
   "execution_count": 320,
   "outputs": [
    {
     "data": {
      "text/plain": "OrderedDict([('weights', tensor([0.3367])), ('bias', tensor([0.1288]))])"
     },
     "execution_count": 320,
     "metadata": {},
     "output_type": "execute_result"
    }
   ],
   "source": [
    "loaded_model_0 = LinearRegressionModel()\n",
    "loaded_model_0.state_dict()"
   ],
   "metadata": {
    "collapsed": false,
    "ExecuteTime": {
     "end_time": "2023-08-06T14:01:44.097041Z",
     "start_time": "2023-08-06T14:01:44.078329Z"
    }
   },
   "id": "30ee7b12c9ec5ed1"
  },
  {
   "cell_type": "code",
   "execution_count": 321,
   "outputs": [
    {
     "data": {
      "text/plain": "<All keys matched successfully>"
     },
     "execution_count": 321,
     "metadata": {},
     "output_type": "execute_result"
    }
   ],
   "source": [
    "loaded_model_0.load_state_dict(torch.load(f=MODEL_SAVE_PATH))"
   ],
   "metadata": {
    "collapsed": false,
    "ExecuteTime": {
     "end_time": "2023-08-06T14:02:17.399521Z",
     "start_time": "2023-08-06T14:02:17.369088Z"
    }
   },
   "id": "30e67ba7c51c44cd"
  },
  {
   "cell_type": "code",
   "execution_count": 322,
   "outputs": [
    {
     "data": {
      "text/plain": "OrderedDict([('weights', tensor([0.6990])), ('bias', tensor([0.3093]))])"
     },
     "execution_count": 322,
     "metadata": {},
     "output_type": "execute_result"
    }
   ],
   "source": [
    "loaded_model_0.state_dict()"
   ],
   "metadata": {
    "collapsed": false,
    "ExecuteTime": {
     "end_time": "2023-08-06T14:02:25.996987Z",
     "start_time": "2023-08-06T14:02:25.970293Z"
    }
   },
   "id": "f6a12fc55b517d3e"
  },
  {
   "cell_type": "code",
   "execution_count": null,
   "outputs": [],
   "source": [],
   "metadata": {
    "collapsed": false
   },
   "id": "295dc00c14a07436"
  }
 ],
 "metadata": {
  "kernelspec": {
   "display_name": "Python 3",
   "language": "python",
   "name": "python3"
  },
  "language_info": {
   "codemirror_mode": {
    "name": "ipython",
    "version": 2
   },
   "file_extension": ".py",
   "mimetype": "text/x-python",
   "name": "python",
   "nbconvert_exporter": "python",
   "pygments_lexer": "ipython2",
   "version": "2.7.6"
  }
 },
 "nbformat": 4,
 "nbformat_minor": 5
}
